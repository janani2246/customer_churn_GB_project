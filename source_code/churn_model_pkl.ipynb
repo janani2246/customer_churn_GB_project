{
  "nbformat": 4,
  "nbformat_minor": 0,
  "metadata": {
    "colab": {
      "provenance": []
    },
    "kernelspec": {
      "name": "python3",
      "display_name": "Python 3"
    },
    "language_info": {
      "name": "python"
    }
  },
  "cells": [
    {
      "cell_type": "code",
      "source": [
        "# Load libraries\n",
        "import pandas as pd\n",
        "import numpy as np\n",
        "import joblib\n",
        "from sklearn.ensemble import RandomForestClassifier\n",
        "from sklearn.model_selection import train_test_split\n",
        "from sklearn.metrics import classification_report\n",
        "\n",
        "# Load dataset\n",
        "df = pd.read_csv('/content/appdata10.csv')\n",
        "\n",
        "# Show columns\n",
        "print(\"📌 Columns:\", df.columns.tolist())\n",
        "\n",
        "# Drop non-numeric/unnecessary columns\n",
        "df = df.drop(columns=['user', 'first_open', 'screen_list', 'enrolled_date'], errors='ignore')\n",
        "\n",
        "# Convert time column to hour (optional)\n",
        "if 'hour' in df.columns:\n",
        "    df['hour'] = df['hour'].astype(str).str.strip()\n",
        "    df['hour'] = pd.to_datetime(df['hour'], format='%H:%M:%S', errors='coerce').dt.hour.fillna(0)\n",
        "\n",
        "# Convert boolean-like columns to integers\n",
        "for col in ['minigame', 'used_premium_feature', 'liked']:\n",
        "    if col in df.columns:\n",
        "        df[col] = df[col].astype(int)\n",
        "\n",
        "# Set target variable\n",
        "target_column = 'enrolled'\n",
        "X = df.drop(columns=[target_column])\n",
        "y = df[target_column]\n",
        "\n",
        "# Double check all X values are numeric\n",
        "assert X.select_dtypes(include=['object']).empty, \"Non-numeric data remains in features!\"\n",
        "\n",
        "# Train/test split\n",
        "X_train, X_test, y_train, y_test = train_test_split(X, y, test_size=0.2, random_state=42)\n",
        "\n",
        "# Train model\n",
        "model = RandomForestClassifier(n_estimators=100, random_state=42)\n",
        "model.fit(X_train, y_train)\n",
        "\n",
        "# Evaluate model\n",
        "y_pred = model.predict(X_test)\n",
        "print(\"\\n✅ Model Performance:\\n\", classification_report(y_test, y_pred))\n",
        "\n",
        "# Save model\n",
        "joblib.dump(model, 'churn_model.pkl')\n",
        "print(\"✅ churn_model.pkl saved successfully!\")\n"
      ],
      "metadata": {
        "colab": {
          "base_uri": "https://localhost:8080/"
        },
        "id": "MjKvW8kEgas1",
        "outputId": "e385b704-6f46-479f-da7d-e99db54fa351"
      },
      "execution_count": 4,
      "outputs": [
        {
          "output_type": "stream",
          "name": "stdout",
          "text": [
            "📌 Columns: ['user', 'first_open', 'dayofweek', 'hour', 'age', 'screen_list', 'numscreens', 'minigame', 'used_premium_feature', 'enrolled', 'enrolled_date', 'liked']\n",
            "\n",
            "✅ Model Performance:\n",
            "               precision    recall  f1-score   support\n",
            "\n",
            "           0       0.52      0.41      0.46      3863\n",
            "           1       0.67      0.76      0.72      6137\n",
            "\n",
            "    accuracy                           0.63     10000\n",
            "   macro avg       0.60      0.59      0.59     10000\n",
            "weighted avg       0.61      0.63      0.62     10000\n",
            "\n",
            "✅ churn_model.pkl saved successfully!\n"
          ]
        }
      ]
    }
  ]
}